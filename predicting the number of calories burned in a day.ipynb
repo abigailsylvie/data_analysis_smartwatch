{
 "cells": [
  {
   "cell_type": "code",
   "execution_count": 1,
   "id": "050e4ffe",
   "metadata": {},
   "outputs": [],
   "source": [
    "#predicting the number of calories burned in a day."
   ]
  },
  {
   "cell_type": "code",
   "execution_count": 12,
   "id": "aeee1c09",
   "metadata": {},
   "outputs": [],
   "source": [
    "import pandas as pd\n",
    "from sklearn.model_selection import train_test_split\n",
    "from sklearn.linear_model import LinearRegression\n",
    "from sklearn.metrics import mean_squared_error, r2_score\n",
    "\n",
    "\n"
   ]
  },
  {
   "cell_type": "code",
   "execution_count": 10,
   "id": "9c6aa68c",
   "metadata": {},
   "outputs": [
    {
     "name": "stdout",
     "output_type": "stream",
     "text": [
      "                 Id    TotalSteps  TotalDistance  TrackerDistance  \\\n",
      "count  9.400000e+02    940.000000     940.000000       940.000000   \n",
      "mean   4.855407e+09   7637.910638       5.489702         5.475351   \n",
      "std    2.424805e+09   5087.150742       3.924606         3.907276   \n",
      "min    1.503960e+09      0.000000       0.000000         0.000000   \n",
      "25%    2.320127e+09   3789.750000       2.620000         2.620000   \n",
      "50%    4.445115e+09   7405.500000       5.245000         5.245000   \n",
      "75%    6.962181e+09  10727.000000       7.712500         7.710000   \n",
      "max    8.877689e+09  36019.000000      28.030001        28.030001   \n",
      "\n",
      "       LoggedActivitiesDistance  VeryActiveDistance  ModeratelyActiveDistance  \\\n",
      "count                940.000000          940.000000                940.000000   \n",
      "mean                   0.108171            1.502681                  0.567543   \n",
      "std                    0.619897            2.658941                  0.883580   \n",
      "min                    0.000000            0.000000                  0.000000   \n",
      "25%                    0.000000            0.000000                  0.000000   \n",
      "50%                    0.000000            0.210000                  0.240000   \n",
      "75%                    0.000000            2.052500                  0.800000   \n",
      "max                    4.942142           21.920000                  6.480000   \n",
      "\n",
      "       LightActiveDistance  SedentaryActiveDistance  VeryActiveMinutes  \\\n",
      "count           940.000000               940.000000         940.000000   \n",
      "mean              3.340819                 0.001606          21.164894   \n",
      "std               2.040655                 0.007346          32.844803   \n",
      "min               0.000000                 0.000000           0.000000   \n",
      "25%               1.945000                 0.000000           0.000000   \n",
      "50%               3.365000                 0.000000           4.000000   \n",
      "75%               4.782500                 0.000000          32.000000   \n",
      "max              10.710000                 0.110000         210.000000   \n",
      "\n",
      "       FairlyActiveMinutes  LightlyActiveMinutes  SedentaryMinutes  \\\n",
      "count           940.000000            940.000000        940.000000   \n",
      "mean             13.564894            192.812766        991.210638   \n",
      "std              19.987404            109.174700        301.267437   \n",
      "min               0.000000              0.000000          0.000000   \n",
      "25%               0.000000            127.000000        729.750000   \n",
      "50%               6.000000            199.000000       1057.500000   \n",
      "75%              19.000000            264.000000       1229.500000   \n",
      "max             143.000000            518.000000       1440.000000   \n",
      "\n",
      "          Calories  \n",
      "count   940.000000  \n",
      "mean   2303.609574  \n",
      "std     718.166862  \n",
      "min       0.000000  \n",
      "25%    1828.500000  \n",
      "50%    2134.000000  \n",
      "75%    2793.250000  \n",
      "max    4900.000000  \n"
     ]
    }
   ],
   "source": [
    "\n",
    "data = pd.read_csv(\"C:\\\\Users\\\\Asus\\\\OneDrive\\\\Desktop\\\\smartwatch\\\\dataset\\\\dailyActivity_merged.csv\")  \n",
    "print(data.describe())\n",
    "\n"
   ]
  },
  {
   "cell_type": "code",
   "execution_count": 16,
   "id": "96fb28c8",
   "metadata": {},
   "outputs": [
    {
     "name": "stdout",
     "output_type": "stream",
     "text": [
      "Mean Squared Error: 210293.98296399237\n",
      "Root Mean Squared Error: 458.57821902483806\n",
      "R^2 Score: 0.5550971711083841\n"
     ]
    }
   ],
   "source": [
    "\n",
    "X = data[['TotalSteps', 'TotalDistance', 'VeryActiveMinutes', 'LightlyActiveMinutes', 'SedentaryMinutes']]\n",
    "y = data['Calories']\n",
    "X_train, X_test, y_train, y_test = train_test_split(X, y, test_size=0.2, random_state=42)\n",
    "model = LinearRegression()\n",
    "model.fit(X_train, y_train)\n",
    "y_pred = model.predict(X_test)\n",
    "mse = mean_squared_error(y_test, y_pred)\n",
    "rmse = np.sqrt(mse)\n",
    "r2 = r2_score(y_test, y_pred)\n",
    "# Print the evaluation metrics\n",
    "print(f\"Mean Squared Error: {mse}\")\n",
    "print(f\"Root Mean Squared Error: {rmse}\")\n",
    "print(f\"R^2 Score: {r2}\")"
   ]
  },
  {
   "cell_type": "code",
   "execution_count": 14,
   "id": "ce5692ed",
   "metadata": {},
   "outputs": [
    {
     "name": "stdout",
     "output_type": "stream",
     "text": [
      "Index(['Id', 'ActivityDate', 'TotalSteps', 'TotalDistance', 'TrackerDistance',\n",
      "       'LoggedActivitiesDistance', 'VeryActiveDistance',\n",
      "       'ModeratelyActiveDistance', 'LightActiveDistance',\n",
      "       'SedentaryActiveDistance', 'VeryActiveMinutes', 'FairlyActiveMinutes',\n",
      "       'LightlyActiveMinutes', 'SedentaryMinutes', 'Calories'],\n",
      "      dtype='object')\n"
     ]
    }
   ],
   "source": [
    "prin"
   ]
  },
  {
   "cell_type": "code",
   "execution_count": null,
   "id": "e8624726",
   "metadata": {},
   "outputs": [],
   "source": []
  }
 ],
 "metadata": {
  "kernelspec": {
   "display_name": "Python 3 (ipykernel)",
   "language": "python",
   "name": "python3"
  },
  "language_info": {
   "codemirror_mode": {
    "name": "ipython",
    "version": 3
   },
   "file_extension": ".py",
   "mimetype": "text/x-python",
   "name": "python",
   "nbconvert_exporter": "python",
   "pygments_lexer": "ipython3",
   "version": "3.10.9"
  }
 },
 "nbformat": 4,
 "nbformat_minor": 5
}
